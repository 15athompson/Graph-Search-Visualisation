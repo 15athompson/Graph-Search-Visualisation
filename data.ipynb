{
  "cells": [
    {
      "cell_type": "code",
      "execution_count": 1,
      "metadata": {
        "id": "iZ-j18ho-I4k"
      },
      "outputs": [],
      "source": [
        "import queue\n",
        "import networkx as nx\n",
        "import matplotlib.pyplot as plt\n",
        "import time "
      ]
    },
    {
      "cell_type": "code",
      "execution_count": 3,
      "metadata": {},
      "outputs": [],
      "source": [
        "def order_bfs(graph, start_node):\n",
        "    visited = set()\n",
        "    q = queue.Queue()\n",
        "    q.put(start_node)\n",
        "    order = []\n",
        "\n",
        "\n",
        "    while not q.empty():\n",
        "        vertex = q.get()\n",
        "        if vertex not in visited:\n",
        "            order.append(vertex)\n",
        "            visited.add(vertex)\n",
        "            for node in graph[vertex]:\n",
        "                if node not in visited:\n",
        "                    q.put(node)\n",
        "                \n",
        "    return order"
      ]
    },
    {
      "cell_type": "code",
      "execution_count": 4,
      "metadata": {},
      "outputs": [],
      "source": [
        "def order_dfs(graph, start_node, visited=None):\n",
        "    if visited is None:\n",
        "        visited = set()\n",
        "\n",
        "    order = []\n",
        "\n",
        "    if start_node not in visited:\n",
        "        order.append(start_node)\n",
        "        visited.add(start_node)\n",
        "        for node in graph[start_node]:\n",
        "            if node not in visited:\n",
        "                order.extend(order_dfs(graph, node, visited))\n",
        "\n",
        "    return order"
      ]
    },
    {
      "cell_type": "code",
      "execution_count": null,
      "metadata": {},
      "outputs": [],
      "source": [
        "def visualise_search(order, title, G, pos):\n",
        "    plt.figure()\n",
        "    plt.title(title)\n",
        "    for i, node in enumerate(order, start=1):\n",
        "        plt.clf()\n",
        "        plt.title(title)\n",
        "        nx.draw(G, pos, with_labels=True, node_color=['r' if n == node else 'g' for n in G.nodes])\n",
        "        plt.draw()\n",
        "        plt.pause(0.5)\n",
        "    plt.show()\n",
        "    time.sleep(0.5)"
      ]
    },
    {
      "cell_type": "code",
      "execution_count": null,
      "metadata": {},
      "outputs": [],
      "source": [
        "\n",
        "\n",
        "G = nx.Graph()\n",
        "G.add_edges_from([('A', 'B'), ('A', 'C'), ('B', 'D'), ('B', 'E'), ('C', 'F'), ('C', 'G')])\n",
        "pos = nx.spring_layout(G)\n",
        "\n",
        "visualise_search(order_bfs(G, 'A'), 'BFS Visualisation', G, pos)"
      ]
    },
    {
      "cell_type": "code",
      "execution_count": null,
      "metadata": {},
      "outputs": [],
      "source": [
        "def generate_connected_random_graph(n, m):\n",
        "    while True:\n",
        "        G = nx.gnm_random_graph(n, m)\n",
        "        if nx.is_connected(G):\n",
        "            return G\n",
        "        \n",
        "\n",
        "G = generate_connected_random_graph(20, 20)\n",
        "pos = nx.spring_layout(G)\n",
        "\n",
        "visualise_search(order_bfs(G, 0), 'BFS Visualisation', G, pos)"
      ]
    },
    {
      "cell_type": "code",
      "execution_count": null,
      "metadata": {},
      "outputs": [],
      "source": []
    }
  ],
  "metadata": {
    "colab": {
      "provenance": []
    },
    "kernelspec": {
      "display_name": "Python 3",
      "name": "python3"
    },
    "language_info": {
      "codemirror_mode": {
        "name": "ipython",
        "version": 3
      },
      "file_extension": ".py",
      "mimetype": "text/x-python",
      "name": "python",
      "nbconvert_exporter": "python",
      "pygments_lexer": "ipython3",
      "version": "3.11.0"
    }
  },
  "nbformat": 4,
  "nbformat_minor": 0
}
